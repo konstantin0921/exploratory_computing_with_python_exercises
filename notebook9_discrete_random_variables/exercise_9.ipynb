{
 "cells": [
  {
   "cell_type": "markdown",
   "metadata": {},
   "source": [
    "## Notebook 9: Discrete random variables\n",
    "In this Notebook you learn how to deal with discrete random variables. Many of the functions we will use are included in the `random` subpackage of `numpy`. We will import this package and call it `rnd` so that we don't have to type `np.random.` all the time."
   ]
  },
  {
   "cell_type": "code",
   "execution_count": 69,
   "metadata": {
    "collapsed": true
   },
   "outputs": [],
   "source": [
    "import numpy as np\n",
    "import matplotlib.pyplot as plt\n",
    "import numpy.random as rnd\n",
    "%matplotlib inline"
   ]
  },
  {
   "cell_type": "markdown",
   "metadata": {},
   "source": [
    "### Random numbers\n",
    "A random number generator lets you draw, at random, a number from a specified distribution. Several random number generators are included in the `random` subpackage of `numpy`. For example, the `ranint(low, high, size)` function returns an integer array of shape `size` at random from `low` up to (but not including) `high`. For example, let's flip a coin 10 times and assign a 0 to heads and a 1 to tails. Note that the `high` is specified as `1 + 1`, which means it is `1` higher than the value we want."
   ]
  },
  {
   "cell_type": "code",
   "execution_count": 70,
   "metadata": {},
   "outputs": [
    {
     "data": {
      "text/plain": [
       "array([0, 0, 1, 1, 0, 1, 1, 1, 1, 1])"
      ]
     },
     "execution_count": 70,
     "metadata": {},
     "output_type": "execute_result"
    }
   ],
   "source": [
    "rnd.randint(0, 1 + 1, 10)"
   ]
  },
  {
   "cell_type": "markdown",
   "metadata": {},
   "source": [
    "If we call the `ran_int` function again, we get a different sequence of heads (zeros) and tails (ones):"
   ]
  },
  {
   "cell_type": "code",
   "execution_count": 71,
   "metadata": {},
   "outputs": [
    {
     "data": {
      "text/plain": [
       "array([1, 1, 0, 0, 0, 1, 1, 0, 1, 0])"
      ]
     },
     "execution_count": 71,
     "metadata": {},
     "output_type": "execute_result"
    }
   ],
   "source": [
    "rnd.randint(0, 1 + 1, 10)"
   ]
  },
  {
   "cell_type": "markdown",
   "metadata": {},
   "source": [
    "Internally, the random number generator starts with what is called a *seed*. The seed is a number and is generated automatically (and supposedly at random) when you call the random number generator. The value of the seed exactly defines the sequence of random numbers that you get (so some people may argue that the generated sequence is at best pseudo-random, and you may not want to use the sequence for any serious cryptographic use, but for our purposes they are random enough). For example, let's set `seed` equal to 10"
   ]
  },
  {
   "cell_type": "code",
   "execution_count": 72,
   "metadata": {},
   "outputs": [
    {
     "data": {
      "text/plain": [
       "array([1, 1, 0, 1, 0, 1, 1, 0, 1, 1])"
      ]
     },
     "execution_count": 72,
     "metadata": {},
     "output_type": "execute_result"
    }
   ],
   "source": [
    "rnd.seed(10)\n",
    "rnd.randint(0, 1 + 1, 10)"
   ]
  },
  {
   "cell_type": "markdown",
   "metadata": {},
   "source": [
    "If we now specify the seed again as 10, we can generate the exact same sequence"
   ]
  },
  {
   "cell_type": "code",
   "execution_count": 73,
   "metadata": {},
   "outputs": [
    {
     "data": {
      "text/plain": [
       "array([1, 1, 0, 1, 0, 1, 1, 0, 1, 1])"
      ]
     },
     "execution_count": 73,
     "metadata": {},
     "output_type": "execute_result"
    }
   ],
   "source": [
    "rnd.seed(10)\n",
    "rnd.randint(0, 1 + 1, 10)"
   ]
  },
  {
   "cell_type": "markdown",
   "metadata": {},
   "source": [
    "The ability to generate the exact same sequence is useful during code development. For example, by seeding the random number generator, you can compare your output to output of others trying to solve the same problem."
   ]
  },
  {
   "cell_type": "markdown",
   "metadata": {},
   "source": [
    "### Flipping a coin\n",
    "Enough for now about random number generators. Let's flip a coin 100 times and count the number of heads (0-s) and the number of tails (1-s):"
   ]
  },
  {
   "cell_type": "code",
   "execution_count": 74,
   "metadata": {},
   "outputs": [
    {
     "name": "stdout",
     "output_type": "stream",
     "text": [
      "number of heads: 59\n",
      "number of tails: 41\n"
     ]
    }
   ],
   "source": [
    "flip = rnd.randint(0, 1 + 1, 100)\n",
    "headcount = 0\n",
    "tailcount = 0\n",
    "for i in range(100):\n",
    "    if flip[i] == 0:\n",
    "        headcount += 1\n",
    "    else:\n",
    "        tailcount += 1\n",
    "print('number of heads:', headcount)\n",
    "print('number of tails:', tailcount)"
   ]
  },
  {
   "cell_type": "markdown",
   "metadata": {},
   "source": [
    "First of all, note that the number of heads and the number of tails add up to 100. Also, note how we counted the heads and tails. We created counters `headcount` and `tailcount`, looped through all flips, and added 1 to the appropriate counter. Instead of a loop, we could have used a condition for the indices combined with a summation as follows"
   ]
  },
  {
   "cell_type": "code",
   "execution_count": 75,
   "metadata": {},
   "outputs": [
    {
     "name": "stdout",
     "output_type": "stream",
     "text": [
      "[ True False False  True  True False  True  True  True  True  True False\n",
      "  True  True False False  True  True False  True  True False  True  True\n",
      "  True False False  True False False False False False  True False  True\n",
      "  True  True  True False  True False False False  True False  True False\n",
      " False  True False  True  True False  True  True  True False False  True\n",
      "  True  True False  True False False  True False False  True False  True\n",
      "  True  True  True  True False  True False  True  True  True  True  True\n",
      "  True  True False False  True False False  True  True False  True  True\n",
      " False  True  True  True]\n",
      "59\n"
     ]
    }
   ],
   "source": [
    "print(flip == 0)\n",
    "print(sum(flip == 0))"
   ]
  },
  {
   "cell_type": "code",
   "execution_count": 76,
   "metadata": {},
   "outputs": [
    {
     "name": "stdout",
     "output_type": "stream",
     "text": [
      "headcount 59\n",
      "tailcount 41\n"
     ]
    }
   ],
   "source": [
    "headcount = np.count_nonzero(flip == 0)\n",
    "tailcount = np.count_nonzero(flip == 1)\n",
    "print('headcount', headcount)\n",
    "print('tailcount', tailcount)"
   ]
  },
  {
   "cell_type": "markdown",
   "metadata": {},
   "source": [
    "How does that work? You may recall that the `flip == 0` statement returns an array with length 100 (equal to the lenght of `flip`) with the value `True` when the condition is met, and `False` when the condition is not met. The boolean `True` has the value 1, and the boolean `False` has the value 0. So we simply need to count the nonzero values using the `np.count_nonzero` function to find out how many items are `True`. \n",
    "\n",
    "The code above is easy, but if we do an experiment with more than two outcomes, it may be cumbersome to count the non-zero items for every possible outcome. So let's try to rewrite this part of the code using a loop. For this specific case the number of lines of code doesn't decrease, but when we have an experiment with many different outcomes this will be much more efficient. Note that `dtype='int'` sets the array to integers."
   ]
  },
  {
   "cell_type": "code",
   "execution_count": 77,
   "metadata": {},
   "outputs": [
    {
     "name": "stdout",
     "output_type": "stream",
     "text": [
      "outcome  0  is  59\n",
      "outcome  1  is  41\n"
     ]
    }
   ],
   "source": [
    "outcomes = np.zeros(2, dtype='int') # Two outcomes. heads are stored in outcome[0], tails in outcome[1]\n",
    "for i in range (2):\n",
    "    outcomes[i] = np.count_nonzero(flip == i)\n",
    "    print('outcome ', i, ' is ', outcomes[i])"
   ]
  },
  {
   "cell_type": "markdown",
   "metadata": {},
   "source": [
    "### Exercise 1. <a name=\"back1\"></a>Throwing a dice\n",
    "Throw a dice 100 times and report how many times you throw 1, 2, 3, 4, 5, and 6. Use a seed of 33. Make sure that the reported values add up to 100. Make sure you use a loop in your code as we did in the previous code cell."
   ]
  },
  {
   "cell_type": "code",
   "execution_count": 78,
   "metadata": {},
   "outputs": [
    {
     "name": "stdout",
     "output_type": "stream",
     "text": [
      "throw 1, 17 times\n",
      "throw 2, 17 times\n",
      "throw 3, 15 times\n",
      "throw 4, 24 times\n",
      "throw 5, 19 times\n",
      "throw 6, 8 times\n",
      "100\n"
     ]
    }
   ],
   "source": [
    "rnd.seed(33)\n",
    "dice_100 = rnd.randint(1,7, 100)\n",
    "dice_outcomes = np.zeros(6, dtype='int') # store the number of appearance for each side\n",
    "for i in range(6):\n",
    "    dice_outcomes[i] = np.count_nonzero(dice_100 == i+1)\n",
    "    print('throw {}, {} times'.format(i+1, dice_outcomes[i]))\n",
    "    \n",
    "print(sum(dice_outcomes))"
   ]
  },
  {
   "cell_type": "markdown",
   "metadata": {},
   "source": [
    "### Flipping a coin twice\n",
    "Next we are going to flip a coin twice for 100 times and count the number of tails. We generate a random array of 0-s (heads) and 1-s (tails) with two rows (representing two coin flips) and 100 colums. The sum of the two rows represents the number of tails. The `np.sum` function takes an array and by default sums all the values in the array and returns one number. In this case we want to sum the rows. For that, the `sum` function has a keyword argument called `axis`, where `axis=0` sums over index 0 of the array (the rows), `axis=1` sums over the index 1 of the array (the columns), etc."
   ]
  },
  {
   "cell_type": "code",
   "execution_count": 79,
   "metadata": {
    "collapsed": true
   },
   "outputs": [],
   "source": [
    "rnd.seed(55)\n",
    "flips = rnd.randint(low=0, high=1 + 1, size=(2, 100))"
   ]
  },
  {
   "cell_type": "code",
   "execution_count": 80,
   "metadata": {},
   "outputs": [
    {
     "data": {
      "text/plain": [
       "array([[1, 0, 1, 0, 1, 1, 1, 1, 1, 1, 1, 1, 0, 0, 1, 0, 0, 1, 1, 0, 0, 0,\n",
       "        1, 1, 1, 1, 1, 1, 0, 1, 0, 1, 1, 1, 1, 0, 1, 0, 1, 1, 1, 0, 1, 0,\n",
       "        0, 0, 0, 0, 0, 1, 1, 0, 1, 0, 0, 0, 1, 0, 1, 1, 0, 0, 1, 0, 1, 1,\n",
       "        1, 0, 0, 0, 1, 1, 1, 0, 0, 0, 0, 1, 0, 0, 1, 1, 0, 0, 0, 1, 0, 0,\n",
       "        1, 0, 1, 1, 1, 0, 1, 0, 1, 0, 1, 0],\n",
       "       [0, 0, 1, 1, 1, 0, 1, 1, 0, 0, 0, 1, 1, 0, 1, 1, 0, 1, 0, 0, 0, 1,\n",
       "        0, 0, 1, 0, 0, 0, 0, 1, 0, 1, 0, 0, 0, 0, 1, 0, 1, 1, 1, 1, 1, 1,\n",
       "        1, 1, 1, 1, 0, 0, 0, 0, 1, 0, 1, 0, 0, 1, 1, 0, 0, 1, 1, 0, 1, 1,\n",
       "        1, 0, 1, 1, 0, 1, 1, 1, 0, 0, 1, 0, 0, 1, 0, 0, 1, 1, 0, 0, 0, 0,\n",
       "        1, 0, 0, 0, 1, 0, 0, 0, 1, 0, 0, 0]])"
      ]
     },
     "execution_count": 80,
     "metadata": {},
     "output_type": "execute_result"
    }
   ],
   "source": [
    "flips"
   ]
  },
  {
   "cell_type": "code",
   "execution_count": 81,
   "metadata": {
    "collapsed": true
   },
   "outputs": [],
   "source": [
    "tails = np.sum(flips, axis=0)"
   ]
  },
  {
   "cell_type": "code",
   "execution_count": 82,
   "metadata": {},
   "outputs": [
    {
     "data": {
      "text/plain": [
       "array([1, 0, 2, 1, 2, 1, 2, 2, 1, 1, 1, 2, 1, 0, 2, 1, 0, 2, 1, 0, 0, 1,\n",
       "       1, 1, 2, 1, 1, 1, 0, 2, 0, 2, 1, 1, 1, 0, 2, 0, 2, 2, 2, 1, 2, 1,\n",
       "       1, 1, 1, 1, 0, 1, 1, 0, 2, 0, 1, 0, 1, 1, 2, 1, 0, 1, 2, 0, 2, 2,\n",
       "       2, 0, 1, 1, 1, 2, 2, 1, 0, 0, 1, 1, 0, 1, 1, 1, 1, 1, 0, 1, 0, 0,\n",
       "       2, 0, 1, 1, 2, 0, 1, 0, 2, 0, 1, 0])"
      ]
     },
     "execution_count": 82,
     "metadata": {},
     "output_type": "execute_result"
    }
   ],
   "source": [
    "tails"
   ]
  },
  {
   "cell_type": "code",
   "execution_count": 83,
   "metadata": {},
   "outputs": [
    {
     "name": "stdout",
     "output_type": "stream",
     "text": [
      "number of 0, 1, 2 tails: [27 47 26]\n"
     ]
    }
   ],
   "source": [
    "number_of_tails = np.zeros(3, dtype='int')\n",
    "for i in range(3):\n",
    "    number_of_tails[i] = np.count_nonzero(tails == i)\n",
    "print('number of 0, 1, 2 tails:', number_of_tails)"
   ]
  },
  {
   "cell_type": "markdown",
   "metadata": {},
   "source": [
    "Another way to simulate flipping a coin twice, is to draw a number at random from a set of 2 numbers (0 and 1). You need to replace the number after every draw, of course. The `numpy` function to draw a random number from a given array is called `choice`. The `choice` function has a keyword to specify whether values are replaced or not. Hence the following two ways to generate 5 flips are identical."
   ]
  },
  {
   "cell_type": "code",
   "execution_count": 84,
   "metadata": {},
   "outputs": [
    {
     "data": {
      "text/plain": [
       "True"
      ]
     },
     "execution_count": 84,
     "metadata": {},
     "output_type": "execute_result"
    }
   ],
   "source": [
    "rnd.seed(55)\n",
    "flips1 = rnd.randint(low=0, high=1 + 1, size=5)\n",
    "rnd.seed(55)\n",
    "flips2 = rnd.choice(range(2), size=5, replace=True)\n",
    "np.alltrue(flips1 == flips2)  # Check whether all values in the two arrays are equal"
   ]
  },
  {
   "cell_type": "code",
   "execution_count": 85,
   "metadata": {},
   "outputs": [
    {
     "data": {
      "text/plain": [
       "array([1, 0, 1, 0, 1])"
      ]
     },
     "execution_count": 85,
     "metadata": {},
     "output_type": "execute_result"
    }
   ],
   "source": [
    "flips1"
   ]
  },
  {
   "cell_type": "markdown",
   "metadata": {},
   "source": [
    "### Bar graph\n",
    "The outcome of the experiment may also be plotted with a bar graph"
   ]
  },
  {
   "cell_type": "code",
   "execution_count": 86,
   "metadata": {},
   "outputs": [
    {
     "data": {
      "image/png": "[encoded data removed]",
      "text/plain": [
       "<matplotlib.figure.Figure at 0x114463908>"
      ]
     },
     "metadata": {},
     "output_type": "display_data"
    }
   ],
   "source": [
    "plt.bar(range(0, 3), number_of_tails)\n",
    "plt.xticks(range(0, 3))\n",
    "plt.xlabel('number of tails')\n",
    "plt.ylabel('occurence in 100 trials');"
   ]
  },
  {
   "cell_type": "markdown",
   "metadata": {},
   "source": [
    "### Cumulative Probability\n",
    "Next we compute the experimental probability of 0 tails, 1 tail, and 2 tails through division by the total number of trials (one trial is two coin flips). The three probabilities add up to 1. The cumulative probability distribution is obtained by cumulatively summing the probabilities using the `cumsum` function of `numpy`. The first value is the probability of throwing 0 tails. The second value is the probability of 1 or fewer tails, and the third value it the probability of 2 or fewer tails. The probability is computed as the number of tails divided by the total number of trials."
   ]
  },
  {
   "cell_type": "code",
   "execution_count": 87,
   "metadata": {},
   "outputs": [
    {
     "name": "stdout",
     "output_type": "stream",
     "text": [
      "cum_prob  [0.27 0.74 1.  ]\n"
     ]
    }
   ],
   "source": [
    "prob = number_of_tails / 100  # number_of_tails was computed two code cells back\n",
    "cum_prob = np.cumsum(prob) # So cum_prob[0] = prob[0], cum_prob[1] = prob[0] + prob[1], etc.\n",
    "print('cum_prob ', cum_prob)"
   ]
  },
  {
   "cell_type": "markdown",
   "metadata": {},
   "source": [
    "The cumulative probability distribution is plotted with a bar graph, making sure that all the bars touch each other (by setting the width to 1, in the case below)"
   ]
  },
  {
   "cell_type": "code",
   "execution_count": 88,
   "metadata": {},
   "outputs": [
    {
     "data": {
      "image/png": "[encoded data removed]",
      "text/plain": [
       "<matplotlib.figure.Figure at 0x1143c38d0>"
      ]
     },
     "metadata": {},
     "output_type": "display_data"
    }
   ],
   "source": [
    "plt.bar(range(0, 3), cum_prob, width=1)\n",
    "plt.xticks(range(0, 3))\n",
    "plt.xlabel('number of tails in two flips')\n",
    "plt.ylabel('cumulative probability');"
   ]
  },
  {
   "cell_type": "markdown",
   "metadata": {},
   "source": [
    "### Exercise 2. <a name=\"back2\"></a>Flip a coin five times\n",
    "Flip a coin five times in a row and record how many times you obtain tails (varying from 0-5). Perform the exeriment 1000 times. Make a bar graph with the total number of tails on the horizontal axis and the emperically computed probability to get that many tails, on the vertical axis. Execute your code several times (hit [shift]-[enter]) and see that the graph changes a bit every time, as the sequence of random numbers changes every time. "
   ]
  },
  {
   "cell_type": "code",
   "execution_count": 89,
   "metadata": {},
   "outputs": [
    {
     "name": "stdout",
     "output_type": "stream",
     "text": [
      "number of 0, 1, 2, 3, 4, 5, tails: [ 288 1617 3099 3097 1606  293]\n",
      "cum_prob  [0.0288 0.1905 0.5004 0.8101 0.9707 1.    ]\n"
     ]
    },
    {
     "data": {
      "image/png": "[encoded data removed]",
      "text/plain": [
       "<matplotlib.figure.Figure at 0x111c198d0>"
      ]
     },
     "metadata": {},
     "output_type": "display_data"
    }
   ],
   "source": [
    "trials = 10000\n",
    "flip_in_each_trial = 5\n",
    "flips = rnd.randint(low=0, high=1 + 1, size=(flip_in_each_trial, trials))\n",
    "\n",
    "tails = np.sum(flips, axis=0) # length 1000\n",
    "\n",
    "number_of_tails = np.zeros(6, dtype='int')\n",
    "for i in range(6):\n",
    "    number_of_tails[i] = np.count_nonzero(tails == i)\n",
    "print('number of 0, 1, 2, 3, 4, 5, tails:', number_of_tails)\n",
    "\n",
    "prob = number_of_tails / trials\n",
    "cum_prob = np.cumsum(prob) # \n",
    "print('cum_prob ', cum_prob)\n",
    "\n",
    "plt.bar(range(6), prob)\n",
    "#plt.xticks(range(0, 3))\n",
    "plt.xlabel('number of tails in five flips')\n",
    "plt.ylabel('probability');"
   ]
  },
  {
   "cell_type": "code",
   "execution_count": 90,
   "metadata": {},
   "outputs": [
    {
     "data": {
      "image/png": "[encoded data removed]",
      "text/plain": [
       "<matplotlib.figure.Figure at 0x111c192e8>"
      ]
     },
     "metadata": {},
     "output_type": "display_data"
    }
   ],
   "source": [
    "plt.bar(range(6), cum_prob, width=1)\n",
    "plt.xlabel('number of tails in five flips')\n",
    "plt.ylabel('cumulative probability');"
   ]
  },
  {
   "cell_type": "markdown",
   "metadata": {},
   "source": [
    "### Probability of a Bernouilli variable\n",
    "In the previous exercise, we computed the probability of a certain number of heads in five flips experimentally. But we can, of course, compute the value exactly by using a few simple formulas. Consider the random variable $Y$, which is the outcome of an experiment with two possible values 0 and 1. Let $p$ be the probability of success, $p=P(Y=1)$. \n",
    "Then $Y$ is said to be a Bernoulli variable. The experiment is repeated $n$ times and we define $X$ as the number of successes in the experiment. The variable $X$ has a Binomial Distribution with parameters $n$ and $p$. The probability that $X$ takes value $k$ can be computed as (see for example [here](http://en.wikipedia.org/wiki/Binomial_distribution))\n",
    "\n",
    "$$P(X=k) = \\binom{n}{k}p^k(1-p)^{n-k}$$\n",
    "\n",
    "The term $\\binom{n}{k}$ may be computed with the `comb` function, which needs to be imported from the `scipy.misc` package."
   ]
  },
  {
   "cell_type": "markdown",
   "metadata": {},
   "source": [
    "### Exercise 3. <a name=\"back3\"></a>Flip a coin 5 times revisited\n",
    "Go back to the experiment where we flip a coin five times in a row and record how many times we obtain tails.\n",
    "Compute the theoretical probability for 0, 1, 2, 3, 4, and 5 tails and compare your answer to the probability computed from 1000 trials, 10000 trials, and 100000 trials (use a loop for these three sets of trials). Do you approach the theoretical value with more trials?"
   ]
  },
  {
   "cell_type": "code",
   "execution_count": 91,
   "metadata": {
    "collapsed": true
   },
   "outputs": [],
   "source": [
    "from scipy.misc import comb"
   ]
  },
  {
   "cell_type": "code",
   "execution_count": 92,
   "metadata": {},
   "outputs": [
    {
     "name": "stdout",
     "output_type": "stream",
     "text": [
      "Theoretical probabilities:\n",
      "0 tails, probability is 0.03125\n",
      "1 tails, probability is 0.15625\n",
      "2 tails, probability is 0.3125\n",
      "3 tails, probability is 0.3125\n",
      "4 tails, probability is 0.15625\n",
      "5 tails, probability is 0.03125\n"
     ]
    }
   ],
   "source": [
    "p = 0.5\n",
    "N = 5\n",
    "theory_prob = np.zeros(N+1)\n",
    "print('Theoretical probabilities:')\n",
    "for k in range(N+1):\n",
    "    theory_prob[k] = comb(N, k) * p ** k * (1-p) ** (N-k)\n",
    "    print('{} tails, probability is {}'.format(k, theory_prob[k]))\n"
   ]
  },
  {
   "cell_type": "code",
   "execution_count": 93,
   "metadata": {},
   "outputs": [
    {
     "name": "stdout",
     "output_type": "stream",
     "text": [
      "trials 1000, probabilities is [0.024 0.157 0.327 0.306 0.163 0.023]\n",
      "trials 10000, probabilities is [0.0303 0.1501 0.3134 0.3217 0.1537 0.0308]\n",
      "trials 100000, probabilities is [0.03126 0.15751 0.31001 0.31473 0.15544 0.03105]\n"
     ]
    }
   ],
   "source": [
    "for trials in (1000, 10000, 100000):\n",
    "    tails = np.sum(rnd.randint(0, 2, size=(5, trials)), axis=0)\n",
    "    tailscount = np.zeros(6)\n",
    "    for i in range(6):\n",
    "        tailscount[i] = np.count_nonzero(tails == i)\n",
    "    print('trials {}, probabilities is {}'.format(trials, tailscount/float(trials)))"
   ]
  },
  {
   "cell_type": "markdown",
   "metadata": {},
   "source": [
    "### Exercise 4. <a name=\"back4\"></a>Maximum value of two dice throws\n",
    "Throw a dice two times and record the maximum value of the two throws. Use the `np.max` function to compute the maximum value. Like the `np.sum` function, the `np.max` function takes an array as input argument and an optional keyword argument named `axis`. Perform the experiment 1000 times and compute the probability that the highest value is 1, 2, 3, 4, 5, or 6. Make a graph of the cumulative probability distribution function using a step graph."
   ]
  },
  {
   "cell_type": "code",
   "execution_count": 94,
   "metadata": {},
   "outputs": [
    {
     "name": "stdout",
     "output_type": "stream",
     "text": [
      "probability that the highest value is 1, 2, 3, 4, 5, or 6:\n",
      " [0.02744 0.0843  0.14092 0.19495 0.24721 0.30518]\n"
     ]
    }
   ],
   "source": [
    "N_trial = 100000\n",
    "dice_throw = rnd.randint(1, 6 + 1, size=(2, N_trial))\n",
    "max_throw = np.max(dice_throw, axis = 0) # length N_trial\n",
    "count_highest_value = np.zeros(6)\n",
    "\n",
    "for i in range(6):\n",
    "    count_highest_value[i] = np.count_nonzero(max_throw == i+1)\n",
    "\n",
    "prob_highest_value = count_highest_value / N_trial\n",
    "print('probability that the highest value is 1, 2, 3, 4, 5, or 6:\\n',prob_highest_value)"
   ]
  },
  {
   "cell_type": "code",
   "execution_count": 95,
   "metadata": {
    "collapsed": true
   },
   "outputs": [],
   "source": [
    "cum_prob = np.cumsum(prob_highest_value)"
   ]
  },
  {
   "cell_type": "code",
   "execution_count": 96,
   "metadata": {},
   "outputs": [
    {
     "data": {
      "text/plain": [
       "Text(0,0.5,'cumulative probability')"
      ]
     },
     "execution_count": 96,
     "metadata": {},
     "output_type": "execute_result"
    },
    {
     "data": {
      "image/png": "[encoded data removed]",
      "text/plain": [
       "<matplotlib.figure.Figure at 0x1153c54e0>"
      ]
     },
     "metadata": {},
     "output_type": "display_data"
    }
   ],
   "source": [
    "plt.bar(range(1,7), cum_prob, width=1)\n",
    "plt.xlabel('the maximum value of the two throws')\n",
    "plt.ylabel('cumulative probability')"
   ]
  },
  {
   "cell_type": "markdown",
   "metadata": {},
   "source": [
    "### Exercise 5. <a name=\"back5\"></a>Maximum value of two dice throws revisited\n",
    "Refer back to Exercise 4.\n",
    "Compute the theoretical value of the probability of the highest dice when throwing the dice twice (the throws are labeled T1 and T2, respectively). There are 36 possible outcomes for this experiment. Let $M$ denote the random variable corresponding to this experiment (this means for instance that $M=3$ when your first throw is a 2, and the second throw is a 3). All outcomes of $M$ can easily be written down, as shown in the following Table: \n",
    "\n",
    "| T1$\\downarrow$ T2$\\to$ | 1 | 2 | 3 | 4 | 5 | 6 |\n",
    "|-----------:|------------:|:------------:|\n",
    "|  1 | 1 | 2 | 3 | 4 | 5 | 6 |\n",
    "|  2 | 2 | 2 | 3 | 4 | 5 | 6 |\n",
    "|  3 | 3 | 3 | 3 | 4 | 5 | 6 |\n",
    "|  4 | 4 | 4 | 4 | 4 | 5 | 6 |\n",
    "|  5 | 5 | 5 | 5 | 5 | 5 | 6 |\n",
    "|  6 | 6 | 6 | 6 | 6 | 6 | 6 |\n",
    "\n",
    "\n",
    "Use the 36 possible outcomes shown in the Table to compute the theoretical probability of $M$ being 1, 2, 3, 4, 5, or 6. Compare the theoretical outcome with the experimental outcome for 100, 1000, and 10000 dice throws."
   ]
  },
  {
   "cell_type": "code",
   "execution_count": 97,
   "metadata": {},
   "outputs": [
    {
     "name": "stdout",
     "output_type": "stream",
     "text": [
      "theoretical probabilities:  [0.02777778 0.08333333 0.13888889 0.19444444 0.25       0.30555556]\n"
     ]
    }
   ],
   "source": [
    "# Exact values\n",
    "theory = np.zeros(6)\n",
    "for i, j in enumerate(range(1, 12, 2)):\n",
    "    theory[i] = j / 36\n",
    "print('theoretical probabilities: ',theory)"
   ]
  },
  {
   "cell_type": "code",
   "execution_count": 98,
   "metadata": {},
   "outputs": [
    {
     "name": "stdout",
     "output_type": "stream",
     "text": [
      "Outcome for 100 throws:  [0.02 0.13 0.05 0.18 0.27 0.35]\n",
      "Outcome for 1000 throws:  [0.04  0.087 0.129 0.206 0.25  0.288]\n",
      "Outcome for 10000 throws:  [0.028  0.0823 0.1386 0.1968 0.2482 0.3061]\n"
     ]
    }
   ],
   "source": [
    "for N in (100, 1000, 10000):\n",
    "    dice = rnd.randint(1, 6 + 1, (2, N))\n",
    "    highest_dice = np.max(dice, axis=0)\n",
    "    outcome = np.zeros(6)\n",
    "    for i in range(6):\n",
    "        outcome[i] = np.sum(highest_dice == i + 1) / N\n",
    "    print('Outcome for', N, 'throws: ', outcome)"
   ]
  },
  {
   "cell_type": "markdown",
   "metadata": {},
   "source": [
    "### Generate random integers with non-equal probabilities\n",
    "So far, we have generated random numbers of which the probability of each outcome was the same (heads or tails, or the numbers on a dice, considering the throwing device was \"fair\"). What now if we want to generate outcomes that don't have the same probability? For example, consider the case that we have a bucket with 4 blue balls and 6 red balls. When you draw a ball at random, the probability of a blue ball is 0.4 and the probability of a red ball is 0.6. A sequence of drawing ten balls, with replacement, may be generated as follows"
   ]
  },
  {
   "cell_type": "code",
   "execution_count": 99,
   "metadata": {},
   "outputs": [
    {
     "name": "stdout",
     "output_type": "stream",
     "text": [
      "balls: [0 0 0 0 1 1 1 1 1 1]\n",
      "drawing: [1 1 1 1 0 0 1 1 0 0]\n",
      "blue balls: 4\n",
      "red balls: 6\n"
     ]
    }
   ],
   "source": [
    "balls = np.zeros(10, dtype='int') # zero is blue\n",
    "balls[4:] = 1  # one is red\n",
    "print('balls:', balls)\n",
    "drawing = rnd.choice(balls, 10, replace=True)\n",
    "print('drawing:', drawing)\n",
    "print('blue balls:', np.count_nonzero(drawing == 0))\n",
    "print('red balls:', np.count_nonzero(drawing == 1))"
   ]
  },
  {
   "cell_type": "markdown",
   "metadata": {},
   "source": [
    "### Exercise 6. <a name=\"back6\"></a>Election poll\n",
    "Consider an election where one million people will vote. 490,000 people will vote for candidate $A$ and 510,000 people will vote for candidate $B$. One day before the election, the company of 'Maurice the Dog' conducts a pole among 1000 randomly chosen voters. Compute whether the Dog will predict the winner correctly using the approach explained above and a seed of 2."
   ]
  },
  {
   "cell_type": "code",
   "execution_count": 100,
   "metadata": {},
   "outputs": [
    {
     "data": {
      "text/plain": [
       "510000"
      ]
     },
     "execution_count": 100,
     "metadata": {},
     "output_type": "execute_result"
    }
   ],
   "source": [
    "voter = np.zeros(1000000, dtype='int') #candidate A is 0\n",
    "voter[490000:] = 1  # candidate B is 1\n",
    "sum(voter)\n"
   ]
  },
  {
   "cell_type": "code",
   "execution_count": 101,
   "metadata": {},
   "outputs": [
    {
     "name": "stdout",
     "output_type": "stream",
     "text": [
      "vote to Candidate A: 508\n",
      "vote to Candidate B: 492\n",
      "The Dog will predict the wrong winner\n"
     ]
    }
   ],
   "source": [
    "rnd.seed(2)\n",
    "\n",
    "pole = rnd.choice(voter, size=1000, replace=True)\n",
    "poled_for_A = np.count_nonzero(pole==0)\n",
    "print('vote to Candidate A:', poled_for_A)\n",
    "print('vote to Candidate B:', np.count_nonzero(pole==1))\n",
    "\n",
    "if poled_for_A > 500: \n",
    "    print('The Dog will predict the wrong winner')\n",
    "else:\n",
    "    print('The Dog will predict the correct winner')"
   ]
  },
  {
   "cell_type": "markdown",
   "metadata": {},
   "source": [
    "Perform the pole 1000 times. Count how many times the outcome of the pole is that candidate $A$ wins and how many times the outcome of the pole is that candidate $B$ wins. What is the probability that the Dog will predict the correct winner based on these 1000 poles of 1000 people? "
   ]
  },
  {
   "cell_type": "code",
   "execution_count": 102,
   "metadata": {},
   "outputs": [
    {
     "name": "stdout",
     "output_type": "stream",
     "text": [
      "Probability that The Dog predicts candidate A to win: 0.267\n"
     ]
    }
   ],
   "source": [
    "trial = 1000\n",
    "wins_board = np.zeros(2) \n",
    "for i in range(trial):\n",
    "    pole = rnd.choice(voter, size=1000, replace=True)\n",
    "    if np.count_nonzero(pole == 0) > 500:\n",
    "        wins_board[0] += 1  # wins_board[0] stores the number of times that Candidate A will win\n",
    "    else:\n",
    "        wins_board[1] += 1\n",
    "\n",
    "\n",
    "print('Probability that The Dog predicts candidate A to win:', wins_board[0] / 1000)"
   ]
  },
  {
   "cell_type": "markdown",
   "metadata": {},
   "source": [
    "Compute the probability that the Dog will predict the correct winner based on 1000 poles of 5000 people? Does the probability that The Dog predicts the correct winner increase significantly when he poles 5000 people?"
   ]
  },
  {
   "cell_type": "code",
   "execution_count": 103,
   "metadata": {},
   "outputs": [
    {
     "name": "stdout",
     "output_type": "stream",
     "text": [
      "Probability that The Dog predicts candidate A to win: 0.07\n"
     ]
    }
   ],
   "source": [
    "trial = 1000\n",
    "wins_board = np.zeros(2) \n",
    "for i in range(trial):\n",
    "    pole = rnd.choice(voter, size=5000, replace=True)\n",
    "    if np.count_nonzero(pole == 0) > 2500:\n",
    "        wins_board[0] += 1  # wins_board[0] stores the number of times that Candidate A will win\n",
    "    else:\n",
    "        wins_board[1] += 1\n",
    "\n",
    "\n",
    "print('Probability that The Dog predicts candidate A to win:', wins_board[0] / 1000)"
   ]
  }
 ],
 "metadata": {
  "kernelspec": {
   "display_name": "Python 3",
   "language": "python",
   "name": "python3"
  },
  "language_info": {
   "codemirror_mode": {
    "name": "ipython",
    "version": 3
   },
   "file_extension": ".py",
   "mimetype": "text/x-python",
   "name": "python",
   "nbconvert_exporter": "python",
   "pygments_lexer": "ipython3",
   "version": "3.5.2"
  }
 },
 "nbformat": 4,
 "nbformat_minor": 1
}
