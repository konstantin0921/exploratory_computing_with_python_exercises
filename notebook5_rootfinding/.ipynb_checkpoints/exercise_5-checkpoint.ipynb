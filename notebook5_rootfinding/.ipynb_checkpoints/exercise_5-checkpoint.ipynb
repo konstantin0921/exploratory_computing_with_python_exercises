{
 "cells": [
  {
   "cell_type": "markdown",
   "metadata": {},
   "source": [
    "## Notebook 5: Finding the zero of a function"
   ]
  },
  {
   "cell_type": "markdown",
   "metadata": {},
   "source": [
    "Finding the zero of a function is a very common task in exploratory computing. In mathematics it is also called *root finding*. The `scipy` package contains a number of methods to find the (approximate) value of the zero of a function of one or more variables. In this Notebook, we will program two methods ourselves, the Bisection method and Newton's method. At the end of the Notebook, we use the corresponding functions of `scipy` to obtain the same results."
   ]
  },
  {
   "cell_type": "code",
   "execution_count": 1,
   "metadata": {
    "collapsed": true
   },
   "outputs": [],
   "source": [
    "import numpy as np\n",
    "import matplotlib.pyplot as plt\n",
    "%matplotlib inline"
   ]
  },
  {
   "cell_type": "markdown",
   "metadata": {},
   "source": [
    "### Bisection method\n",
    "The Bisection method is a simple method to find the zero of a function. The user needs to specify the function $f(x)$ and two values of $x$ between which $f(x)$ is zero - let's call those two points $x_1$ and $x_2$. As $f(x)$ equals zero somewhere between $x_1$ and $x_2$, that means that $f(x)$ is positive at $x_1$ or $x_2$ and negative at the other one. In other words, the product of the two function values is negative: $f(x_1)f(x_2)<0$. If this condition is fulfilled, all we know is that $f(x)$ is zero somewhere in the interval between $x_1$ and $x_2$ (provided $f(x)$ is continuous, of course). The basic idea of the Bisection method is to iterate towards the zero of the function by cutting the interval in half every iteration. This is done by computing the middle between $x_1$ and $x_2$, let's call that point $x_m$, and compute $f(x_m)$. Next, replace either $x_1$ or $x_2$ by $x_m$ making sure that $f(x)$ remains negative at one of the two values and positive at the other. Repeat the process until the interval is small enough. In summary, the algorithm works as follows:\n",
    "\n",
    "1. Compute $f(x)$ at $x_1$ and $x_2$ and make sure that $f(x_1)f(x_2)<0$.\n",
    "2. Compute $x_m = \\frac{1}{2}(x_1+x_2)$.\n",
    "3. Compute $f(x_m)$.\n",
    "4. If $f(x_m)f(x_2)<0$, replace $x_1$ by $x_m$, otherwise, replace $x_2$ by $x_m$.\n",
    "5. Test whether $|x_1-x_2|<\\varepsilon$, where $\\varepsilon$ is a user-specified tolerance. If this is not yet the case, return to step 2."
   ]
  },
  {
   "cell_type": "markdown",
   "metadata": {},
   "source": [
    "Recall that a function may simply be passed as the argument to another function in Python. The example below contains a function called `square_me` that returns the square of any function of one variable, evaluated at the provided value of $x$. As an example, `square_me` is used with the `cos` function"
   ]
  },
  {
   "cell_type": "code",
   "execution_count": 2,
   "metadata": {},
   "outputs": [
    {
     "name": "stdout",
     "output_type": "stream",
     "text": [
      "result of square_me function: 0.4272499830956933\n",
      "directly taking the square  : 0.4272499830956933\n"
     ]
    }
   ],
   "source": [
    "def square_me(func, x):\n",
    "    return func(x) ** 2\n",
    "print('result of square_me function:', square_me(np.cos, 4))\n",
    "print('directly taking the square  :', np.cos(4) ** 2)"
   ]
  },
  {
   "cell_type": "markdown",
   "metadata": {},
   "source": [
    "### Exercise 1. <a name=\"back1\"></a>\n",
    "Write a Python function for $f(x)=\\frac{1}{2}-\\text{e}^{-x}$. Create a plot of $f(x)$ for $x$ varying from 0 to 4. Notice that $f(x)$ has a zero somewhere on the plotted interval (for this example it isn't really that hard to determine the zero exactly, of course, and we will do that later on to test whether our code works correctly)."
   ]
  },
  {
   "cell_type": "code",
   "execution_count": 3,
   "metadata": {
    "collapsed": true
   },
   "outputs": [],
   "source": [
    "def f(x):\n",
    "    return 0.5 - np.exp(-x)"
   ]
  },
  {
   "cell_type": "code",
   "execution_count": 4,
   "metadata": {},
   "outputs": [
    {
     "data": {
      "text/plain": [
       "<matplotlib.lines.Line2D at 0x1119954a8>"
      ]
     },
     "execution_count": 4,
     "metadata": {},
     "output_type": "execute_result"
    },
    {
     "data": {
      "image/png": "[encoded data removed]",
      "text/plain": [
       "<matplotlib.figure.Figure at 0x111995470>"
      ]
     },
     "metadata": {},
     "output_type": "display_data"
    }
   ],
   "source": [
    "x = np.linspace(0,4, num=50)\n",
    "y = f(x)\n",
    "plt.plot(x,y)\n",
    "\n",
    "plt.axhline(ls='dashdot', color='r')"
   ]
  },
  {
   "cell_type": "markdown",
   "metadata": {},
   "source": [
    "### Exercise 2. <a name=\"back2\"></a>Bisection method\n",
    "Implement the bisection method in a function called `bisection`. Your `bisection` method should take the following arguments:\n",
    "\n",
    "1. The function for which you want to find the zero.\n",
    "2. $x_1$ and $x_2$\n",
    "3. The tolerance `tol` used as a stopping criterion. Make `tol` a keyword argument with a default value of 0.001.\n",
    "4. The maximum number of iterations `nmax`. Make `nmax` a keyword argument with a default value of, for example, 10.\n",
    "\n",
    "Your function should return the value of $x$ where $f(x)$ equals (approximately) zero. Your function should print a warning to the screen when the maximum number of iterations is reached before the tolerance is met.\n",
    "\n",
    "In writing your code, implement steps 2-5 of the algorithm explained above in a regular loop that you perform `nmax` times and break out of the loop (using the `break` command) when the tolerance is met. Doing it this way will prevent you from getting stuck in an infinite loop, which may happen if you use a `while` loop. \n",
    "In writing your code it is advisable to print the values of $x_1$, $x_2$, $f(x_1)$, and $f(x_2)$ to the screen every iteration, so you can see how your `bisection` function performs (or whether you have any bugs left). \n",
    "\n",
    "Use your `bisection` method to find the zero of the function $f(x)$ you programmed in Step 1 and make sure it is within `tol=0.001` of the exact value. "
   ]
  },
  {
   "cell_type": "code",
   "execution_count": 5,
   "metadata": {
    "collapsed": true
   },
   "outputs": [],
   "source": [
    "def bisection(func, x1, x2, tol=1e-3, nmax=10, silent=True):\n",
    "    \"\"\" find the zero of a function using bisection method\n",
    "    func: the function to be found zero\n",
    "    x1: lower bound\n",
    "    x2: upper bound\n",
    "    tol: stopping criterion\n",
    "    nmax: maximum number of iterations\n",
    "    returns: float, at which the function is (approximately) zero\n",
    "    \"\"\"\n",
    "    \n",
    "    assert func(x1)*func(x2) < 0, 'Error: zero not in interval x1-x2'\n",
    "    enough_flag = False\n",
    "    for i in range(nmax):\n",
    "        if not silent:\n",
    "            print('iteration {}, x1={}, x2={}, f(x1)={}, f(x2)={}'.\\\n",
    "                  format(i+1, x1, x2, func(x1), func(x2)))\n",
    "        \n",
    "        xm = (x1+x2)/2\n",
    "        if func(xm)*func(x2) <= 0:\n",
    "            x1 = xm\n",
    "        else:\n",
    "            x2 = xm\n",
    "            \n",
    "        if np.abs(x1- x2) < tol:\n",
    "            enough_flag = True\n",
    "            break\n",
    "    \n",
    "    if not enough_flag:\n",
    "        print('maximum number of iterations is reached before the tolerance is met')\n",
    "        \n",
    "    return (x1+x2) / 2\n",
    "                \n",
    "                \n",
    "            \n",
    "            "
   ]
  },
  {
   "cell_type": "code",
   "execution_count": 6,
   "metadata": {},
   "outputs": [
    {
     "name": "stdout",
     "output_type": "stream",
     "text": [
      "iteration 1, x1=0, x2=1, f(x1)=-0.5, f(x2)=0.13212055882855767\n",
      "iteration 2, x1=0.5, x2=1, f(x1)=-0.10653065971263342, f(x2)=0.13212055882855767\n",
      "iteration 3, x1=0.5, x2=0.75, f(x1)=-0.10653065971263342, f(x2)=0.02763344725898531\n",
      "iteration 4, x1=0.625, x2=0.75, f(x1)=-0.03526142851899028, f(x2)=0.02763344725898531\n",
      "iteration 5, x1=0.6875, x2=0.75, f(x1)=-0.002831577970940913, f(x2)=0.02763344725898531\n",
      "iteration 6, x1=0.6875, x2=0.71875, f(x1)=-0.002831577970940913, f(x2)=0.012638923286380888\n",
      "iteration 7, x1=0.6875, x2=0.703125, f(x1)=-0.002831577970940913, f(x2)=0.004964103073801407\n",
      "iteration 8, x1=0.6875, x2=0.6953125, f(x1)=-0.002831577970940913, f(x2)=0.0010814884135280645\n",
      "iteration 9, x1=0.69140625, x2=0.6953125, f(x1)=-0.0008712234296744947, f(x2)=0.0010814884135280645\n",
      "iteration 10, x1=0.69140625, x2=0.693359375, f(x1)=-0.0008712234296744947, f(x2)=0.00010608596420341732\n"
     ]
    },
    {
     "data": {
      "text/plain": [
       "0.69287109375"
      ]
     },
     "execution_count": 6,
     "metadata": {},
     "output_type": "execute_result"
    }
   ],
   "source": [
    "bisection(f, 0, 1, nmax=15, silent=False)"
   ]
  },
  {
   "cell_type": "code",
   "execution_count": 7,
   "metadata": {},
   "outputs": [
    {
     "name": "stdout",
     "output_type": "stream",
     "text": [
      "zero of function and function value:  0.69287109375 -0.00013806246270808842\n"
     ]
    }
   ],
   "source": [
    "xzero = bisection(func=f, x1=0, x2=4, nmax=20)  \n",
    "print('zero of function and function value: ', xzero, f(xzero))  "
   ]
  },
  {
   "cell_type": "markdown",
   "metadata": {},
   "source": [
    "Demonstrate that your `bisection` method works correctly by finding the zero of cos($x$) between $x_1=0$ and $x_2=3$ running the following command:\n",
    "\n",
    "`bisection(np.cos, 0, 3, tol=1e-6, nmax=30)`"
   ]
  },
  {
   "cell_type": "code",
   "execution_count": 8,
   "metadata": {},
   "outputs": [
    {
     "name": "stdout",
     "output_type": "stream",
     "text": [
      "cos(x) is zero between 0 and pi at: 1.5707963705062866\n",
      "relative error: 2.782753519183795e-08\n"
     ]
    }
   ],
   "source": [
    "xzero = bisection(func=np.cos, x1=0, x2=3, tol=1e-6, nmax=30)\n",
    "print('cos(x) is zero between 0 and pi at:', xzero)\n",
    "print('relative error:', (xzero - np.pi / 2) / (np.pi / 2))"
   ]
  },
  {
   "cell_type": "markdown",
   "metadata": {},
   "source": [
    "### Newton's method"
   ]
  },
  {
   "cell_type": "markdown",
   "metadata": {},
   "source": [
    "The Bisection method is a brute-force method that is guaranteed to work when the user specifies an interval from $x_1$ to $x_2$ that contains a zero (and the function is continuous). The Bisection method is not very efficient (it requires a lot of function evaluations) and it is inconvienient that the user has to specify an interval that contains the zero. A smarter alternative is Newton's method (also called the Newton-Raphson method), but it is, unfortunately, not guaranteed that it always works, as is explained below. \n",
    "\n",
    "Let's try to find the zero of the function represented by the blue line in the graph below. Newton's method starts at a user-defined starting location, called $x_0$ here and shown with the blue dot. A straight line is fitted through the point $(x,y)=(x_0,f(x_0))$ in such a way that the line is tangent to $f(x)$ at $x_0$ (the red line). The intersection of the red line with the horizontal axis is the next estimate $x_1$ of the zero of the function (the red dot). This process is continued until a value of $f(x)$ is found that is sufficiently small. Hence, a straight line is fitted through the point $(x,y)=(x_1,f(x_1))$, again tangent to the function, and the intersection of this line with the horizontal axis is the next best estimate of the zero of the function, etc., etc.\n",
    "\n",
    "\n",
    "<img src=\"http://i.imgur.com/tK1EOtD.png\" alt=\"Newton's method on wikipedia\">\n",
    "\n",
    "The equation for a straight line with slope $a$ and through the point $x_n,f(x_n)$ is\n",
    "\n",
    "$$y = a(x-x_n) + f(x_n)$$\n",
    "\n",
    "As we want the line to be tangent to the function $f(x)$ at the point $x=x_n$, the slope $a$ is equal to the derivative of $f(x)$ at $x_n$: $a=f'(x_n)$. To find the intersection of the line with the horizontal axis, we have to find the value of $x$ that results in $y=0$. This is our next estimate $x_{n+1}$ of the zero of the function. Hence we need to solve\n",
    "\n",
    "$$0 = f'(x_n) (x_{n+1}-x_n) + f(x_n)$$\n",
    "\n",
    "which gives\n",
    "\n",
    "$$\\boxed{x_{n+1} = x_n - f(x_n)/f'(x_n)}$$\n",
    "\n",
    "The search is completed when $|f(x)|$ is below a user-specified tolerance.\n",
    "A nice animated illustration of Newton's method can be found on wikipedia (we will learn how to make cool animations like this in a later Notebook).\n",
    "\n",
    "<img src=\"http://upload.wikimedia.org/wikipedia/commons/e/e0/NewtonIteration_Ani.gif\" alt=\"Newton's method on wikipedia\" width=\"400px\">"
   ]
  },
  {
   "cell_type": "markdown",
   "metadata": {},
   "source": [
    "Newton's method is guaranteed to find the zero of a function if the function is *well behaved* and you start your search *close enough* to the zero. If those two conditions are met, Newton's method is very fast. If they are not met, the method does not converge to the zero. Another disadvantage of Newton's method is that you need to define the derivative of the function. Strangely enough, the function value doesn't have to go down every iteration (as is illustated in animation above going from $x_2$ to $x_3$)."
   ]
  },
  {
   "cell_type": "markdown",
   "metadata": {},
   "source": [
    "### Exercise 3. <a name=\"back3\"></a>Newton's method\n",
    "Implement Newton's method in a Python function called `newtonsmethod` and test your function by finding the zero of $f(x)=\\frac{1}{2}-\\text{e}^{-x}$, as we used in Exercise 1. Use $x_0=1$ as the starting point of your search. The `newtonsmethod` function should take the following arguments:\n",
    "\n",
    "1. The function for which you want to find the zero.\n",
    "2. The derivative of the function for which you want to find the zero.\n",
    "3. The starting point of the search $x_0$.\n",
    "4. The tolerance `tol` used as a stopping criterion. Make `tol` a keyword argument with a default value of $10^{-6}$.\n",
    "5. The maximum number of iterations `nmax`. Make `nmax` a keyword argument with a default value of 10.\n",
    "\n",
    "Your function should return the value of $x$ where $f(x)$ equals (approximately) zero. Your function should print a warning to the screen when the maximum number of iterations is reached before the tolerance is met. \n",
    "\n",
    "It is suggested that during development of your script, you print the value of $x_{n+1}$ and the corresponding function value to the screen every iteration so you know whether your function is making good progress. If you implement everything correctly, you should find a zero that gives a function value less than $10^{-6}$ within 3 iterations if you start at $x=1$. How many iterations do you need when you start at $x=4$?"
   ]
  },
  {
   "cell_type": "code",
   "execution_count": 9,
   "metadata": {
    "collapsed": true
   },
   "outputs": [],
   "source": [
    "def newtonsmethod(func, func_d, x0, tol=1e-6, nmax=10, silent=True):\n",
    "    xn = x0\n",
    "    enought_flag = False\n",
    "    for i in range(nmax):\n",
    "        yn = func(xn)\n",
    "        if not silent:\n",
    "            print('iteration {}, xn={}, func(xn)={}'.format(i+1, xn, yn))\n",
    "            \n",
    "        if abs(yn) < tol:\n",
    "            enought_flag = True\n",
    "            break\n",
    "        \n",
    "        x_next = xn - yn/func_d(xn)\n",
    "        xn = x_next\n",
    "        \n",
    "    if not enought_flag:\n",
    "        print('the maximum number of iterations is reached before the tolerance is met')\n",
    "        \n",
    "    return xn\n",
    "        \n",
    "       \n",
    "    \n",
    "    \n",
    "    "
   ]
  },
  {
   "cell_type": "code",
   "execution_count": 29,
   "metadata": {},
   "outputs": [
    {
     "name": "stdout",
     "output_type": "stream",
     "text": [
      "starting at x=1\n",
      "iteration 1, xn=1, func(xn)=0.13212055882855767\n",
      "iteration 2, xn=0.6408590857704775, func(xn)=-0.0268396291473465\n",
      "iteration 3, xn=0.6918036762349127, func(xn)=-0.0006722036156379119\n",
      "iteration 4, xn=0.6931462784620456, func(xn)=-4.5104915336047213e-07\n",
      "the value at xzero is  -4.5104915336047213e-07\n",
      "starting at x=4\n",
      "iteration 1, xn=4, func(xn)=0.48168436111126584\n",
      "iteration 2, xn=-22.29907501657212, func(xn)=-4834652137.247759\n",
      "iteration 3, xn=-21.29907501667554, func(xn)=-1778569126.3769033\n",
      "iteration 4, xn=-20.299075016956667, func(xn)=-654299016.1641959\n",
      "iteration 5, xn=-19.299075017720845, func(xn)=-240703156.29338866\n",
      "iteration 6, xn=-18.299075019798092, func(xn)=-88549742.49329355\n",
      "iteration 7, xn=-17.299075025444637, func(xn)=-32575629.652187422\n",
      "iteration 8, xn=-16.299075040793532, func(xn)=-11983904.300133996\n",
      "iteration 9, xn=-15.29907508251616, func(xn)=-4408631.884864781\n",
      "iteration 10, xn=-14.299075195930016, func(xn)=-1621844.9020141093\n",
      "iteration 11, xn=-13.299075504220806, func(xn)=-596643.2640991729\n",
      "iteration 12, xn=-12.299076342241799, func(xn)=-219492.65845502712\n",
      "iteration 13, xn=-11.299078620217129, func(xn)=-80746.70441332035\n",
      "iteration 14, xn=-10.299084812381968, func(xn)=-29704.92037601861\n",
      "iteration 15, xn=-9.299101644326901, func(xn)=-10927.697388961122\n",
      "iteration 16, xn=-8.29914739752683, func(xn)=-4019.9430923907985\n",
      "iteration 17, xn=-7.299271761928591, func(xn)=-1478.7223092491483\n",
      "iteration 18, xn=-6.299609777382302, func(xn)=-543.8594473062298\n",
      "iteration 19, xn=-5.300528288124559, func(xn)=-199.94267349317104\n",
      "iteration 20, xn=-4.303022766926334, func(xn)=-73.42290803990777\n",
      "iteration 21, xn=-3.3097865700999063, func(xn)=-26.879281290993355\n",
      "iteration 22, xn=-2.3280485542143134, func(xn)=-9.757904244553082\n",
      "iteration 23, xn=-1.3767914541361468, func(xn)=-3.4621684117956972\n",
      "iteration 24, xn=-0.5029849795076226, func(xn)=-1.1536500223586592\n",
      "iteration 25, xn=0.19465358171173852, func(xn)=-0.32311975240788193\n",
      "iteration 26, xn=0.5872085549858652, func(xn)=-0.05587682058555432\n",
      "iteration 27, xn=0.6877287035444871, func(xn)=-0.0027165917561575714\n",
      "iteration 28, xn=0.6931325270918015, func(xn)=-7.326787753170194e-06\n",
      "iteration 29, xn=0.6931471804525837, func(xn)=-5.3680837552860794e-11\n",
      "the value at xzero is  -5.3680837552860794e-11\n"
     ]
    }
   ],
   "source": [
    "def f(x):\n",
    "    return 0.5 - np.exp(-x)\n",
    "\n",
    "def f_d(x):\n",
    "    return np.exp(-x)\n",
    "\n",
    "\n",
    "print('starting at x=1')\n",
    "xzero = newtonsmethod(f, f_d, x0=1, silent=False)\n",
    "print('the value at xzero is ', f(xzero))\n",
    "\n",
    "\n",
    "print('starting at x=4')\n",
    "xzero = newtonsmethod(f, f_d, x0=4, nmax=40, silent=False)\n",
    "print('the value at xzero is ', f(xzero))\n"
   ]
  },
  {
   "cell_type": "markdown",
   "metadata": {},
   "source": [
    "### Exercise 4. <a name=\"back4\"></a>\n",
    "Demonstrate that your `newton` function works by finding the zero of $\\sin(x)$. As you know, the $\\sin(x)$ function has many zeros: $-2\\pi$, $-\\pi$, $0$, $pi$, $2\\pi$, etc. Which zero do you find when starting at $x=1$ and which zero do you find when starting at $x=1.5$?"
   ]
  },
  {
   "cell_type": "code",
   "execution_count": 10,
   "metadata": {},
   "outputs": [
    {
     "name": "stdout",
     "output_type": "stream",
     "text": [
      "starting point is x=1\n",
      "xzero, sin(xzero): 2.923566201412306e-13 2.923566201412306e-13\n",
      "starting point is x=1.5\n",
      "xzero, sin(xzero): -12.566370614359174 -1.2864981197413093e-15\n",
      "xzero / pi: -4.000000000000001\n"
     ]
    }
   ],
   "source": [
    "xzero = newtonsmethod(func=np.sin, func_d=np.cos, x0=1)\n",
    "print('starting point is x=1')\n",
    "print('xzero, sin(xzero):', xzero, np.sin(xzero))\n",
    "\n",
    "xzero = newtonsmethod(func=np.sin, func_d=np.cos, x0=1.5)\n",
    "print('starting point is x=1.5')\n",
    "print('xzero, sin(xzero):', xzero, np.sin(xzero))\n",
    "print('xzero / pi:', xzero / np.pi)"
   ]
  },
  {
   "cell_type": "markdown",
   "metadata": {},
   "source": [
    "### Root finding methods in `scipy`\n",
    "The package `scipy.optimize` includes a number of routines for the minimization of a function and to find the zeros of a function. Two of the rootfinding methods are called, no suprise, `bisect` and `newton`. But possibly the most popular root finding method is called `fsolve`. `fsolve` has as additional advantage that is will estimate the derivative of the function for you if you cannot (or don't want to) do it yourself. `fsolve` can even be used to find an (approximate) answer for a system of non-linear equations, but we won't do that here. "
   ]
  },
  {
   "cell_type": "markdown",
   "metadata": {},
   "source": [
    "### Exercise 5.<a name=\"back5\"></a> `fsolve` \n",
    "Use the `fsolve` method of the `scipy.optimize` package to find the $x$ value for which $\\ln(x^2)=2$ (i.e., find the zero of the function $\\ln(x^2)-2$), and demonstrate that your value of $x$ indeed gives $\\ln(x^2)=2$."
   ]
  },
  {
   "cell_type": "code",
   "execution_count": 16,
   "metadata": {},
   "outputs": [
    {
     "name": "stdout",
     "output_type": "stream",
     "text": [
      "xzero, function value [2.71828183] [0.]\n"
     ]
    }
   ],
   "source": [
    "from scipy.optimize import fsolve\n",
    "\n",
    "def ff(x):\n",
    "    return np.log(x**2) - 2\n",
    "\n",
    "xzero = fsolve(ff, 3)\n",
    "print('xzero, function value', xzero,ff(xzero))"
   ]
  },
  {
   "cell_type": "code",
   "execution_count": 18,
   "metadata": {},
   "outputs": [
    {
     "data": {
      "text/plain": [
       "(1,)"
      ]
     },
     "execution_count": 18,
     "metadata": {},
     "output_type": "execute_result"
    }
   ],
   "source": [
    "xzero.shape"
   ]
  },
  {
   "cell_type": "markdown",
   "metadata": {},
   "source": [
    "### Exercise 6.<a name=\"back6\"></a> Plot the zero\n",
    "Plot the function $f(x)=x+2\\cos(x)$ for $x$ going from -2 to 4. On the same graph, plot a red dot at the location where $f(x)=0$. Obviously, you need to find this location with one of the methods you learned in this Notebook. "
   ]
  },
  {
   "cell_type": "code",
   "execution_count": 23,
   "metadata": {},
   "outputs": [
    {
     "data": {
      "text/plain": [
       "<matplotlib.lines.Line2D at 0x1144d8208>"
      ]
     },
     "execution_count": 23,
     "metadata": {},
     "output_type": "execute_result"
    },
    {
     "data": {
      "image/png": "[encoded data removed]",
      "text/plain": [
       "<matplotlib.figure.Figure at 0x1143ce2e8>"
      ]
     },
     "metadata": {},
     "output_type": "display_data"
    }
   ],
   "source": [
    "def f(x):\n",
    "    return x + 2*np.cos(x)\n",
    "\n",
    "x = np.linspace(-2, 4, num=100)\n",
    "y = f(x)\n",
    "\n",
    "plt.plot(x, y, 'b-')\n",
    "plt.title('f(x) = x+2*cos(x)')\n",
    "\n",
    "xzero = fsolve(f, -2)\n",
    "yzero = f(xzero)\n",
    "plt.plot(xzero, yzero, 'ro')\n",
    "\n",
    "plt.axhline(y=0, color='r')"
   ]
  },
  {
   "cell_type": "code",
   "execution_count": null,
   "metadata": {
    "collapsed": true
   },
   "outputs": [],
   "source": []
  }
 ],
 "metadata": {
  "kernelspec": {
   "display_name": "Python 3",
   "language": "python",
   "name": "python3"
  },
  "language_info": {
   "codemirror_mode": {
    "name": "ipython",
    "version": 3
   },
   "file_extension": ".py",
   "mimetype": "text/x-python",
   "name": "python",
   "nbconvert_exporter": "python",
   "pygments_lexer": "ipython3",
   "version": "3.5.2"
  }
 },
 "nbformat": 4,
 "nbformat_minor": 1
}
